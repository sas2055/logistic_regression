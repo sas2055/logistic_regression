{
 "cells": [
  {
   "cell_type": "markdown",
   "id": "f0b92317",
   "metadata": {},
   "source": [
    "### import necessary libraries"
   ]
  },
  {
   "cell_type": "code",
   "execution_count": 1,
   "id": "afca262a",
   "metadata": {},
   "outputs": [],
   "source": [
    "import numpy as np\n",
    "import pandas as pd\n",
    "import seaborn as sns"
   ]
  },
  {
   "cell_type": "markdown",
   "id": "486baca8",
   "metadata": {},
   "source": [
    "### Problem Statement: We are going to solve a binary categorical problem\n",
    "In which we need to build a model, using age as an input , \n",
    "on the basis of this age factor we want predict whether\n",
    "that person will BUY and insurance or not"
   ]
  },
  {
   "cell_type": "code",
   "execution_count": null,
   "id": "ab45a203",
   "metadata": {},
   "outputs": [],
   "source": [
    "# When we try to formulate any problem statement\n",
    "# We need to understand KPI's\n",
    "# Key performance Indicators"
   ]
  },
  {
   "cell_type": "code",
   "execution_count": 2,
   "id": "a0513860",
   "metadata": {},
   "outputs": [
    {
     "data": {
      "text/html": [
       "<div>\n",
       "<style scoped>\n",
       "    .dataframe tbody tr th:only-of-type {\n",
       "        vertical-align: middle;\n",
       "    }\n",
       "\n",
       "    .dataframe tbody tr th {\n",
       "        vertical-align: top;\n",
       "    }\n",
       "\n",
       "    .dataframe thead th {\n",
       "        text-align: right;\n",
       "    }\n",
       "</style>\n",
       "<table border=\"1\" class=\"dataframe\">\n",
       "  <thead>\n",
       "    <tr style=\"text-align: right;\">\n",
       "      <th></th>\n",
       "      <th>age</th>\n",
       "      <th>braught_insurance</th>\n",
       "    </tr>\n",
       "  </thead>\n",
       "  <tbody>\n",
       "    <tr>\n",
       "      <th>0</th>\n",
       "      <td>22</td>\n",
       "      <td>0</td>\n",
       "    </tr>\n",
       "    <tr>\n",
       "      <th>1</th>\n",
       "      <td>25</td>\n",
       "      <td>0</td>\n",
       "    </tr>\n",
       "    <tr>\n",
       "      <th>2</th>\n",
       "      <td>47</td>\n",
       "      <td>1</td>\n",
       "    </tr>\n",
       "    <tr>\n",
       "      <th>3</th>\n",
       "      <td>52</td>\n",
       "      <td>0</td>\n",
       "    </tr>\n",
       "    <tr>\n",
       "      <th>4</th>\n",
       "      <td>46</td>\n",
       "      <td>1</td>\n",
       "    </tr>\n",
       "    <tr>\n",
       "      <th>5</th>\n",
       "      <td>56</td>\n",
       "      <td>1</td>\n",
       "    </tr>\n",
       "    <tr>\n",
       "      <th>6</th>\n",
       "      <td>55</td>\n",
       "      <td>0</td>\n",
       "    </tr>\n",
       "    <tr>\n",
       "      <th>7</th>\n",
       "      <td>60</td>\n",
       "      <td>1</td>\n",
       "    </tr>\n",
       "    <tr>\n",
       "      <th>8</th>\n",
       "      <td>62</td>\n",
       "      <td>1</td>\n",
       "    </tr>\n",
       "    <tr>\n",
       "      <th>9</th>\n",
       "      <td>61</td>\n",
       "      <td>1</td>\n",
       "    </tr>\n",
       "    <tr>\n",
       "      <th>10</th>\n",
       "      <td>18</td>\n",
       "      <td>0</td>\n",
       "    </tr>\n",
       "    <tr>\n",
       "      <th>11</th>\n",
       "      <td>28</td>\n",
       "      <td>0</td>\n",
       "    </tr>\n",
       "    <tr>\n",
       "      <th>12</th>\n",
       "      <td>27</td>\n",
       "      <td>0</td>\n",
       "    </tr>\n",
       "    <tr>\n",
       "      <th>13</th>\n",
       "      <td>29</td>\n",
       "      <td>0</td>\n",
       "    </tr>\n",
       "    <tr>\n",
       "      <th>14</th>\n",
       "      <td>49</td>\n",
       "      <td>1</td>\n",
       "    </tr>\n",
       "    <tr>\n",
       "      <th>15</th>\n",
       "      <td>55</td>\n",
       "      <td>1</td>\n",
       "    </tr>\n",
       "    <tr>\n",
       "      <th>16</th>\n",
       "      <td>25</td>\n",
       "      <td>1</td>\n",
       "    </tr>\n",
       "    <tr>\n",
       "      <th>17</th>\n",
       "      <td>58</td>\n",
       "      <td>1</td>\n",
       "    </tr>\n",
       "    <tr>\n",
       "      <th>18</th>\n",
       "      <td>19</td>\n",
       "      <td>0</td>\n",
       "    </tr>\n",
       "    <tr>\n",
       "      <th>19</th>\n",
       "      <td>18</td>\n",
       "      <td>0</td>\n",
       "    </tr>\n",
       "    <tr>\n",
       "      <th>20</th>\n",
       "      <td>21</td>\n",
       "      <td>0</td>\n",
       "    </tr>\n",
       "    <tr>\n",
       "      <th>21</th>\n",
       "      <td>26</td>\n",
       "      <td>0</td>\n",
       "    </tr>\n",
       "    <tr>\n",
       "      <th>22</th>\n",
       "      <td>40</td>\n",
       "      <td>1</td>\n",
       "    </tr>\n",
       "    <tr>\n",
       "      <th>23</th>\n",
       "      <td>45</td>\n",
       "      <td>1</td>\n",
       "    </tr>\n",
       "    <tr>\n",
       "      <th>24</th>\n",
       "      <td>50</td>\n",
       "      <td>1</td>\n",
       "    </tr>\n",
       "    <tr>\n",
       "      <th>25</th>\n",
       "      <td>54</td>\n",
       "      <td>1</td>\n",
       "    </tr>\n",
       "    <tr>\n",
       "      <th>26</th>\n",
       "      <td>23</td>\n",
       "      <td>0</td>\n",
       "    </tr>\n",
       "  </tbody>\n",
       "</table>\n",
       "</div>"
      ],
      "text/plain": [
       "    age  braught_insurance\n",
       "0    22                  0\n",
       "1    25                  0\n",
       "2    47                  1\n",
       "3    52                  0\n",
       "4    46                  1\n",
       "5    56                  1\n",
       "6    55                  0\n",
       "7    60                  1\n",
       "8    62                  1\n",
       "9    61                  1\n",
       "10   18                  0\n",
       "11   28                  0\n",
       "12   27                  0\n",
       "13   29                  0\n",
       "14   49                  1\n",
       "15   55                  1\n",
       "16   25                  1\n",
       "17   58                  1\n",
       "18   19                  0\n",
       "19   18                  0\n",
       "20   21                  0\n",
       "21   26                  0\n",
       "22   40                  1\n",
       "23   45                  1\n",
       "24   50                  1\n",
       "25   54                  1\n",
       "26   23                  0"
      ]
     },
     "execution_count": 2,
     "metadata": {},
     "output_type": "execute_result"
    }
   ],
   "source": [
    "df = pd.read_csv('insurance.csv')\n",
    "df"
   ]
  },
  {
   "cell_type": "code",
   "execution_count": 3,
   "id": "724e6ffd",
   "metadata": {},
   "outputs": [
    {
     "data": {
      "text/plain": [
       "Index(['age', 'braught_insurance'], dtype='object')"
      ]
     },
     "execution_count": 3,
     "metadata": {},
     "output_type": "execute_result"
    }
   ],
   "source": [
    "df.columns"
   ]
  },
  {
   "cell_type": "markdown",
   "id": "93cd8db0",
   "metadata": {},
   "source": [
    "### check the relastionship using scatter plot"
   ]
  },
  {
   "cell_type": "code",
   "execution_count": 4,
   "id": "6804d86c",
   "metadata": {},
   "outputs": [
    {
     "data": {
      "text/plain": [
       "<AxesSubplot:xlabel='age', ylabel='braught_insurance'>"
      ]
     },
     "execution_count": 4,
     "metadata": {},
     "output_type": "execute_result"
    },
    {
     "data": {
      "image/png": "[encoded data removed]",
      "text/plain": [
       "<Figure size 432x288 with 1 Axes>"
      ]
     },
     "metadata": {
      "needs_background": "light"
     },
     "output_type": "display_data"
    }
   ],
   "source": [
    "sns.scatterplot(x='age',y='braught_insurance',data=df)"
   ]
  },
  {
   "cell_type": "markdown",
   "id": "b6bb1bf2",
   "metadata": {},
   "source": [
    "### findings:\n",
    "- Data is as per assumptions of Logistic regression\n",
    "- Forms S curve\n",
    "- Binary format in Dependant variable"
   ]
  },
  {
   "cell_type": "code",
   "execution_count": null,
   "id": "2e203f29",
   "metadata": {},
   "outputs": [],
   "source": [
    "# without splitting data will procees for training of model"
   ]
  },
  {
   "cell_type": "markdown",
   "id": "9f291241",
   "metadata": {},
   "source": [
    "### Model Training"
   ]
  },
  {
   "cell_type": "code",
   "execution_count": 5,
   "id": "b01e8f41",
   "metadata": {},
   "outputs": [],
   "source": [
    "from sklearn.linear_model import LogisticRegression"
   ]
  },
  {
   "cell_type": "code",
   "execution_count": 6,
   "id": "1e95897e",
   "metadata": {},
   "outputs": [
    {
     "data": {
      "text/plain": [
       "LogisticRegression()"
      ]
     },
     "execution_count": 6,
     "metadata": {},
     "output_type": "execute_result"
    }
   ],
   "source": [
    "LR = LogisticRegression()\n",
    "LR"
   ]
  },
  {
   "cell_type": "code",
   "execution_count": 7,
   "id": "c4b9861f",
   "metadata": {},
   "outputs": [],
   "source": [
    "# Create input + output\n",
    "X = df[['age']]\n",
    "y =  df.braught_insurance"
   ]
  },
  {
   "cell_type": "code",
   "execution_count": 8,
   "id": "c41510ef",
   "metadata": {},
   "outputs": [
    {
     "data": {
      "text/plain": [
       "LogisticRegression()"
      ]
     },
     "execution_count": 8,
     "metadata": {},
     "output_type": "execute_result"
    }
   ],
   "source": [
    "LR.fit(X,y)"
   ]
  },
  {
   "cell_type": "markdown",
   "id": "b40c0933",
   "metadata": {},
   "source": [
    "### Model Testing"
   ]
  },
  {
   "cell_type": "code",
   "execution_count": 9,
   "id": "62f9634e",
   "metadata": {},
   "outputs": [
    {
     "name": "stderr",
     "output_type": "stream",
     "text": [
      "C:\\Users\\chava\\anaconda3\\lib\\site-packages\\sklearn\\base.py:450: UserWarning: X does not have valid feature names, but LogisticRegression was fitted with feature names\n",
      "  warnings.warn(\n"
     ]
    },
    {
     "data": {
      "text/plain": [
       "array([0], dtype=int64)"
      ]
     },
     "execution_count": 9,
     "metadata": {},
     "output_type": "execute_result"
    }
   ],
   "source": [
    "age = [[27]]\n",
    "LR.predict(age)"
   ]
  },
  {
   "cell_type": "code",
   "execution_count": 10,
   "id": "c78074c4",
   "metadata": {},
   "outputs": [
    {
     "name": "stderr",
     "output_type": "stream",
     "text": [
      "C:\\Users\\chava\\anaconda3\\lib\\site-packages\\sklearn\\base.py:450: UserWarning: X does not have valid feature names, but LogisticRegression was fitted with feature names\n",
      "  warnings.warn(\n"
     ]
    },
    {
     "data": {
      "text/plain": [
       "array([1], dtype=int64)"
      ]
     },
     "execution_count": 10,
     "metadata": {},
     "output_type": "execute_result"
    }
   ],
   "source": [
    "LR.predict([[65]])"
   ]
  },
  {
   "cell_type": "markdown",
   "id": "f819b52d",
   "metadata": {},
   "source": [
    "#### Logistic regression is a Probablistic model based on Probablity??? HOW>>>"
   ]
  },
  {
   "cell_type": "code",
   "execution_count": null,
   "id": "05310abf",
   "metadata": {},
   "outputs": [],
   "source": [
    "Actual formula we use is:\n",
    "                1\n",
    "y_pred = --------------\n",
    "           1  + e^(-y)\n",
    "y_pred is nothing but a probablity"
   ]
  },
  {
   "cell_type": "code",
   "execution_count": 11,
   "id": "f641204e",
   "metadata": {},
   "outputs": [
    {
     "data": {
      "text/plain": [
       "array([[0.1354656]])"
      ]
     },
     "execution_count": 11,
     "metadata": {},
     "output_type": "execute_result"
    }
   ],
   "source": [
    "x= 65\n",
    "m = LR.coef_\n",
    "m"
   ]
  },
  {
   "cell_type": "code",
   "execution_count": 12,
   "id": "a84065cc",
   "metadata": {},
   "outputs": [
    {
     "data": {
      "text/plain": [
       "array([-5.26279696])"
      ]
     },
     "execution_count": 12,
     "metadata": {},
     "output_type": "execute_result"
    }
   ],
   "source": [
    "c = LR.intercept_\n",
    "c"
   ]
  },
  {
   "cell_type": "code",
   "execution_count": 13,
   "id": "75969d5c",
   "metadata": {},
   "outputs": [
    {
     "data": {
      "text/plain": [
       "2.718281828459045"
      ]
     },
     "execution_count": 13,
     "metadata": {},
     "output_type": "execute_result"
    }
   ],
   "source": [
    "from math import e\n",
    "e"
   ]
  },
  {
   "cell_type": "markdown",
   "id": "41e56974",
   "metadata": {},
   "source": [
    "### check y now..... y = mx+c"
   ]
  },
  {
   "cell_type": "code",
   "execution_count": 14,
   "id": "15047c4e",
   "metadata": {},
   "outputs": [
    {
     "data": {
      "text/plain": [
       "array([[3.54246691]])"
      ]
     },
     "execution_count": 14,
     "metadata": {},
     "output_type": "execute_result"
    }
   ],
   "source": [
    "y =m*x + c\n",
    "y"
   ]
  },
  {
   "cell_type": "markdown",
   "id": "0d7f7aba",
   "metadata": {},
   "source": [
    "### check y_pred now"
   ]
  },
  {
   "cell_type": "code",
   "execution_count": 15,
   "id": "b595b55a",
   "metadata": {},
   "outputs": [
    {
     "data": {
      "text/plain": [
       "array([[1.02894184]])"
      ]
     },
     "execution_count": 15,
     "metadata": {},
     "output_type": "execute_result"
    }
   ],
   "source": [
    "1/ 1+e**(-(y)) # when ur x=65"
   ]
  },
  {
   "cell_type": "code",
   "execution_count": 16,
   "id": "7a912208",
   "metadata": {},
   "outputs": [
    {
     "data": {
      "text/plain": [
       "array([[0.97187223]])"
      ]
     },
     "execution_count": 16,
     "metadata": {},
     "output_type": "execute_result"
    }
   ],
   "source": [
    "1/ (1+e**(-(m*65+c)))"
   ]
  },
  {
   "cell_type": "code",
   "execution_count": 17,
   "id": "50c27a73",
   "metadata": {},
   "outputs": [
    {
     "data": {
      "text/plain": [
       "array([[0.1672525]])"
      ]
     },
     "execution_count": 17,
     "metadata": {},
     "output_type": "execute_result"
    }
   ],
   "source": [
    "# check for shital age=27\n",
    "1/ (1+e**(-(m*27+c)))\n",
    "# probablity is below 0.5 hence shital is not going to Buy an insurance"
   ]
  },
  {
   "cell_type": "code",
   "execution_count": 18,
   "id": "46adf0aa",
   "metadata": {},
   "outputs": [
    {
     "name": "stdout",
     "output_type": "stream",
     "text": [
      "Enter your age:64\n",
      "A person with age 64 is going to Buy an insurance\n"
     ]
    }
   ],
   "source": [
    "age = int(input('Enter your age:'))\n",
    "prob = 1/ (1+e**(-(m*age+c)))\n",
    "if prob > 0.5:\n",
    "    print('A person with age',age,'is going to Buy an insurance')\n",
    "else:\n",
    "    print('A person with age',age,'is NOT going to Buy an insurance')"
   ]
  },
  {
   "cell_type": "code",
   "execution_count": 19,
   "id": "be50cae9",
   "metadata": {},
   "outputs": [
    {
     "name": "stdout",
     "output_type": "stream",
     "text": [
      "Enter your age:22\n",
      "A person with age 22 is NOT going to Buy an insurance\n"
     ]
    }
   ],
   "source": [
    "age = int(input('Enter your age:'))\n",
    "prob = 1/ (1+e**(-(m*age+c)))\n",
    "if prob > 0.5:\n",
    "    print('A person with age',age,'is going to Buy an insurance')\n",
    "else:\n",
    "    print('A person with age',age,'is NOT going to Buy an insurance')"
   ]
  },
  {
   "cell_type": "code",
   "execution_count": null,
   "id": "05d8d25a",
   "metadata": {},
   "outputs": [],
   "source": []
  },
  {
   "cell_type": "code",
   "execution_count": null,
   "id": "a6055eb8",
   "metadata": {},
   "outputs": [],
   "source": []
  },
  {
   "cell_type": "code",
   "execution_count": null,
   "id": "57e27ed1",
   "metadata": {},
   "outputs": [],
   "source": []
  },
  {
   "cell_type": "code",
   "execution_count": null,
   "id": "e5c3ab73",
   "metadata": {},
   "outputs": [],
   "source": []
  }
 ],
 "metadata": {
  "kernelspec": {
   "display_name": "Python 3 (ipykernel)",
   "language": "python",
   "name": "python3"
  },
  "language_info": {
   "codemirror_mode": {
    "name": "ipython",
    "version": 3
   },
   "file_extension": ".py",
   "mimetype": "text/x-python",
   "name": "python",
   "nbconvert_exporter": "python",
   "pygments_lexer": "ipython3",
   "version": "3.9.12"
  }
 },
 "nbformat": 4,
 "nbformat_minor": 5
}
